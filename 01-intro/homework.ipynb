{
 "cells": [
  {
   "cell_type": "code",
   "execution_count": 1,
   "id": "3487ec55-c090-451a-87c3-baee227fd1fb",
   "metadata": {},
   "outputs": [],
   "source": [
    "import openai"
   ]
  },
  {
   "cell_type": "code",
   "execution_count": 2,
   "id": "fcb51e39-830b-497b-8c9b-fa6bb8e0a8eb",
   "metadata": {},
   "outputs": [],
   "source": [
    "from openai import OpenAI"
   ]
  },
  {
   "cell_type": "code",
   "execution_count": 7,
   "id": "000aa84a-0153-4a2e-b792-1be0e50ff1f9",
   "metadata": {},
   "outputs": [],
   "source": [
    "client = OpenAI() "
   ]
  },
  {
   "cell_type": "code",
   "execution_count": 5,
   "id": "c1527edf-4eed-44f5-8a9c-728e0618c5c5",
   "metadata": {},
   "outputs": [],
   "source": [
    "import os"
   ]
  },
  {
   "cell_type": "code",
   "execution_count": 18,
   "id": "52f457be-de64-4493-a94e-563eded7fd6c",
   "metadata": {},
   "outputs": [],
   "source": [
    "response = client.chat.completions.create(\n",
    "                               model = 'gpt-3.5-turbo',\n",
    "                               messages = [{\"role\" : \"user\",\n",
    "                                           \"content\" : \"is it too late to join the course?\"}]\n",
    "                              )\n",
    "                               "
   ]
  },
  {
   "cell_type": "code",
   "execution_count": 21,
   "id": "2774c328-8d10-4e06-a91c-ed9cb0703db6",
   "metadata": {},
   "outputs": [
    {
     "data": {
      "text/plain": [
       "'It depends on the specific course and its enrollment deadlines. I recommend reaching out to the course instructor or program coordinator to inquire about joining late. They will be able to provide you with the most up-to-date information on course availability and enrollment deadlines.'"
      ]
     },
     "execution_count": 21,
     "metadata": {},
     "output_type": "execute_result"
    }
   ],
   "source": [
    "response.choices[0].message.content"
   ]
  },
  {
   "cell_type": "code",
   "execution_count": null,
   "id": "7832f6c3-856a-46fe-be89-40c60a454be4",
   "metadata": {},
   "outputs": [],
   "source": []
  }
 ],
 "metadata": {
  "kernelspec": {
   "display_name": "Python 3 (ipykernel)",
   "language": "python",
   "name": "python3"
  },
  "language_info": {
   "codemirror_mode": {
    "name": "ipython",
    "version": 3
   },
   "file_extension": ".py",
   "mimetype": "text/x-python",
   "name": "python",
   "nbconvert_exporter": "python",
   "pygments_lexer": "ipython3",
   "version": "3.10.13"
  }
 },
 "nbformat": 4,
 "nbformat_minor": 5
}
